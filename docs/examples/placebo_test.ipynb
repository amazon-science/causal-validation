{
 "cells": [
  {
   "cell_type": "markdown",
   "id": "51633494",
   "metadata": {},
   "source": [
    "# Placebo Testing\n",
    "\n",
    "A placebo test is an approach to assess the validity of a causal model by checking if\n",
    "the effect can truly be attributed to the treatment, or to other spurious factors. A\n",
    "placebo test is conducted by iterating through the set of control units and at each\n",
    "iteration, replacing the treated unit by one of the control units and measuring the\n",
    "effect. If the model detects a significant effect, then it suggests potential bias or\n",
    "omitted variables in the analysis, indicating that the causal inference is flawed.\n",
    "\n",
    "A successful placebo test will show no statistically significant results and we may\n",
    "then conclude that the estimated effect can be attributed to the treatment and not\n",
    "driven by confounding factors. Conversely, a failed placebo test, which shows\n",
    "significant results, suggests that the identified treatment effect may not be\n",
    "reliable. Placebo testing is thus a critical step to ensure the robustness of findings\n",
    "in RCTs. In this notebook, we demonstrate how a placebo test can be conducted in\n",
    "`causal-validation`."
   ]
  },
  {
   "cell_type": "code",
   "execution_count": null,
   "id": "2accff55",
   "metadata": {},
   "outputs": [],
   "source": [
    "from azcausal.core.error import JackKnife\n",
    "from azcausal.estimators.panel.did import DID\n",
    "from azcausal.estimators.panel.sdid import SDID\n",
    "\n",
    "from causal_validation import (\n",
    "    Config,\n",
    "    simulate,\n",
    ")\n",
    "from causal_validation.effects import StaticEffect\n",
    "from causal_validation.models import AZCausalWrapper\n",
    "from causal_validation.plotters import plot\n",
    "from causal_validation.validation.placebo import PlaceboTest"
   ]
  },
  {
   "cell_type": "markdown",
   "id": "5e54868a",
   "metadata": {},
   "source": [
    "## Data simulation\n",
    "\n",
    "To demonstrate a placebo test, we must first simulate some data. For the purposes of\n",
    "illustration, we'll simulate a very simple dataset containing 10 control units where\n",
    "each unit has 60 pre-intervention observations, and 30 post-intervention observations."
   ]
  },
  {
   "cell_type": "code",
   "execution_count": null,
   "id": "70384164",
   "metadata": {},
   "outputs": [],
   "source": [
    "cfg = Config(\n",
    "    n_control_units=10,\n",
    "    n_pre_intervention_timepoints=60,\n",
    "    n_post_intervention_timepoints=30,\n",
    "    seed=123,\n",
    ")\n",
    "\n",
    "TRUE_EFFECT = 0.05\n",
    "effect = StaticEffect(effect=TRUE_EFFECT)\n",
    "data = effect(simulate(cfg))\n",
    "ax = plot(data)"
   ]
  },
  {
   "cell_type": "markdown",
   "id": "da2cfe08",
   "metadata": {},
   "source": [
    "## Model\n",
    "\n",
    "We'll now define our model. To do this, we'll use the synthetic\n",
    "difference-in-differences implementation of AZCausal. This implementation, along with\n",
    "any other model from AZCausal, can be neatly wrapped up in our `AZCausalWrapper` to\n",
    "make fitting and effect estimation simpler."
   ]
  },
  {
   "cell_type": "code",
   "execution_count": null,
   "id": "4e8b3ef5",
   "metadata": {},
   "outputs": [],
   "source": [
    "model = AZCausalWrapper(model=SDID(), error_estimator=JackKnife())"
   ]
  },
  {
   "cell_type": "markdown",
   "id": "a2f972d2",
   "metadata": {},
   "source": [
    "## Placebo Test Results\n",
    "\n",
    "Now that we have a dataset and model defined, we may conduct our placebo test. With 10\n",
    "control units, the test will estimate 10 individual effects; 1 per control unit when\n",
    "it is mocked as the treated group. With those 10 effects, the routine will then\n",
    "produce the mean estimated effect, along with the standard deviation across the\n",
    "estimated effect, the effect's standard error, and the p-value that corresponds to the\n",
    "null-hypothesis test that the effect is 0.\n",
    "\n",
    "In the below, we see that expected estimated effect is small at just 0.08.\n",
    "Accordingly, the p-value attains a value of 0.5, indicating that we have insufficient\n",
    "evidence to reject the null hypothesis and we, therefore, have no evidence to suggest\n",
    "that there is bias within this particular setup."
   ]
  },
  {
   "cell_type": "code",
   "execution_count": null,
   "id": "4b5671b4",
   "metadata": {},
   "outputs": [],
   "source": [
    "result = PlaceboTest(model, data).execute()\n",
    "result.summary()"
   ]
  },
  {
   "cell_type": "markdown",
   "id": "1109724d",
   "metadata": {},
   "source": [
    "## Model Comparison\n",
    "\n",
    "We can also use the results of a placebo test to compare two or more models. Using\n",
    "`causal-validation`, this is as simple as supplying a series of models to the placebo\n",
    "test and comparing their outputs. To demonstrate this, we will compare the previously\n",
    "used synthetic difference-in-differences model with regular difference-in-differences."
   ]
  },
  {
   "cell_type": "code",
   "execution_count": null,
   "id": "02d26c1b",
   "metadata": {},
   "outputs": [],
   "source": [
    "did_model = AZCausalWrapper(model=DID())\n",
    "PlaceboTest([model, did_model], data).execute().summary()"
   ]
  }
 ],
 "metadata": {
  "jupytext": {
   "cell_metadata_filter": "-all",
   "custom_cell_magics": "kql"
  },
  "kernelspec": {
   "display_name": "dev",
   "language": "python",
   "name": "python3"
  }
 },
 "nbformat": 4,
 "nbformat_minor": 5
}
